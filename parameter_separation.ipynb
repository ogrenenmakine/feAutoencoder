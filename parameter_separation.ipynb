{
 "cells": [
  {
   "cell_type": "code",
   "execution_count": 1,
   "metadata": {},
   "outputs": [],
   "source": [
    "import mxnet as mx\n",
    "from mxnet.gluon import nn\n",
    "from mxnet.gluon.contrib import nn as nn_contrib\n",
    "from mxnet import nd\n",
    "from mxnet import gluon\n",
    "import numpy as np\n",
    "ctx = mx.gpu()"
   ]
  },
  {
   "cell_type": "code",
   "execution_count": 2,
   "metadata": {
    "scrolled": true
   },
   "outputs": [
    {
     "data": {
      "text/plain": [
       "['decodercnn.0.bias',\n",
       " 'decodercnn.0.weight',\n",
       " 'decodercnn.1.bias',\n",
       " 'decodercnn.1.weight',\n",
       " 'decodercnn.2.bias',\n",
       " 'decodercnn.2.weight',\n",
       " 'decodercnn.3.bias',\n",
       " 'decodercnn.3.weight',\n",
       " 'decodercnn.4.bias',\n",
       " 'decodercnn.4.weight',\n",
       " 'decodercnn.5.bias',\n",
       " 'decodercnn.5.weight',\n",
       " 'decodercnn.6.bias',\n",
       " 'decodercnn.6.weight',\n",
       " 'decodercnn.7.bias',\n",
       " 'decodercnn.7.weight',\n",
       " 'decoderrnn.0.h2h_bias',\n",
       " 'decoderrnn.0.h2h_weight',\n",
       " 'decoderrnn.0.i2h_bias',\n",
       " 'decoderrnn.0.i2h_weight',\n",
       " 'decoderrnn.1.h2h_bias',\n",
       " 'decoderrnn.1.h2h_weight',\n",
       " 'decoderrnn.1.i2h_bias',\n",
       " 'decoderrnn.1.i2h_weight',\n",
       " 'encodercnn.0.bias',\n",
       " 'encodercnn.0.weight',\n",
       " 'encodercnn.10.bias',\n",
       " 'encodercnn.10.weight',\n",
       " 'encodercnn.11.beta',\n",
       " 'encodercnn.11.gamma',\n",
       " 'encodercnn.11.running_mean',\n",
       " 'encodercnn.11.running_var',\n",
       " 'encodercnn.14.bias',\n",
       " 'encodercnn.14.weight',\n",
       " 'encodercnn.2.bias',\n",
       " 'encodercnn.2.weight',\n",
       " 'encodercnn.4.bias',\n",
       " 'encodercnn.4.weight',\n",
       " 'encodercnn.5.bias',\n",
       " 'encodercnn.5.weight',\n",
       " 'encodercnn.7.bias',\n",
       " 'encodercnn.7.weight',\n",
       " 'encodercnn.8.beta',\n",
       " 'encodercnn.8.gamma',\n",
       " 'encodercnn.8.running_mean',\n",
       " 'encodercnn.8.running_var',\n",
       " 'encoderrnn.0.h2h_bias',\n",
       " 'encoderrnn.0.h2h_weight',\n",
       " 'encoderrnn.0.i2h_bias',\n",
       " 'encoderrnn.0.i2h_weight',\n",
       " 'encoderrnn.1.h2h_bias',\n",
       " 'encoderrnn.1.h2h_weight',\n",
       " 'encoderrnn.1.i2h_bias',\n",
       " 'encoderrnn.1.i2h_weight',\n",
       " 'intermediate_nn.bias',\n",
       " 'intermediate_nn.weight']"
      ]
     },
     "execution_count": 2,
     "metadata": {},
     "output_type": "execute_result"
    }
   ],
   "source": [
    "all_params = mx.nd.load(\"weights/ae_Adam_0.001_i16_*.params\")\n",
    "sorted(all_params.keys())"
   ]
  },
  {
   "cell_type": "code",
   "execution_count": 3,
   "metadata": {},
   "outputs": [],
   "source": [
    "enc_params = dict()\n",
    "enc_params['encodercnn.0.bias']=all_params['encodercnn.0.bias']\n",
    "enc_params['encodercnn.0.weight']=all_params['encodercnn.0.weight']\n",
    "enc_params['encodercnn.10.bias']=all_params['encodercnn.10.bias']\n",
    "enc_params['encodercnn.10.weight']=all_params['encodercnn.10.weight']\n",
    "enc_params['encodercnn.11.beta']=all_params['encodercnn.11.beta']\n",
    "enc_params['encodercnn.11.gamma']=all_params['encodercnn.11.gamma']\n",
    "enc_params['encodercnn.11.running_mean']=all_params['encodercnn.11.running_mean']\n",
    "enc_params['encodercnn.11.running_var']=all_params['encodercnn.11.running_var']\n",
    "enc_params['encodercnn.14.bias']=all_params['encodercnn.14.bias']\n",
    "enc_params['encodercnn.14.weight']=all_params['encodercnn.14.weight']\n",
    "enc_params['encodercnn.2.bias']=all_params['encodercnn.2.bias']\n",
    "enc_params['encodercnn.2.weight']=all_params['encodercnn.2.weight']\n",
    "enc_params['encodercnn.4.bias']=all_params['encodercnn.4.bias']\n",
    "enc_params['encodercnn.4.weight']=all_params['encodercnn.4.weight']\n",
    "enc_params['encodercnn.5.bias']=all_params['encodercnn.5.bias']\n",
    "enc_params['encodercnn.5.weight']=all_params['encodercnn.5.weight']\n",
    "enc_params['encodercnn.7.bias']=all_params['encodercnn.7.bias']\n",
    "enc_params['encodercnn.7.weight']=all_params['encodercnn.7.weight']\n",
    "enc_params['encodercnn.8.beta']=all_params['encodercnn.8.beta']\n",
    "enc_params['encodercnn.8.gamma']=all_params['encodercnn.8.gamma']\n",
    "enc_params['encodercnn.8.running_mean']=all_params['encodercnn.8.running_mean']\n",
    "enc_params['encodercnn.8.running_var']=all_params['encodercnn.8.running_var']\n",
    "enc_params['encoderrnn.0.h2h_bias']=all_params['encoderrnn.0.h2h_bias']\n",
    "enc_params['encoderrnn.0.h2h_weight']=all_params['encoderrnn.0.h2h_weight']\n",
    "enc_params['encoderrnn.0.i2h_bias']=all_params['encoderrnn.0.i2h_bias']\n",
    "enc_params['encoderrnn.0.i2h_weight']=all_params['encoderrnn.0.i2h_weight']\n",
    "enc_params['encoderrnn.1.h2h_bias']=all_params['encoderrnn.1.h2h_bias']\n",
    "enc_params['encoderrnn.1.h2h_weight']=all_params['encoderrnn.1.h2h_weight']\n",
    "enc_params['encoderrnn.1.i2h_bias']=all_params['encoderrnn.1.i2h_bias']\n",
    "enc_params['encoderrnn.1.i2h_weight']=all_params['encoderrnn.1.i2h_weight']"
   ]
  },
  {
   "cell_type": "code",
   "execution_count": 4,
   "metadata": {},
   "outputs": [],
   "source": [
    "mx.nd.save(\"weights/fe16*.params\",enc_params)"
   ]
  },
  {
   "cell_type": "code",
   "execution_count": null,
   "metadata": {},
   "outputs": [],
   "source": []
  }
 ],
 "metadata": {
  "kernelspec": {
   "display_name": "Python 2",
   "language": "python",
   "name": "python2"
  },
  "language_info": {
   "codemirror_mode": {
    "name": "ipython",
    "version": 2
   },
   "file_extension": ".py",
   "mimetype": "text/x-python",
   "name": "python",
   "nbconvert_exporter": "python",
   "pygments_lexer": "ipython2",
   "version": "2.7.15rc1"
  }
 },
 "nbformat": 4,
 "nbformat_minor": 2
}
