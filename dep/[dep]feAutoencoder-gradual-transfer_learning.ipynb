{
 "cells": [
  {
   "cell_type": "code",
   "execution_count": 1,
   "metadata": {},
   "outputs": [],
   "source": [
    "import mxnet as mx\n",
    "from mxnet import gluon as g\n",
    "from mxnet import nd\n",
    "import numpy as np\n",
    "from mxnet import autograd as ag\n",
    "from matplotlib import pyplot as plt\n",
    "import os\n",
    "import time"
   ]
  },
  {
   "cell_type": "code",
   "execution_count": 2,
   "metadata": {},
   "outputs": [],
   "source": [
    "ctx = mx.gpu()"
   ]
  },
  {
   "cell_type": "code",
   "execution_count": 3,
   "metadata": {},
   "outputs": [],
   "source": [
    "batch_size = 512\n",
    "height = 24\n",
    "width = 7*height"
   ]
  },
  {
   "cell_type": "code",
   "execution_count": 4,
   "metadata": {},
   "outputs": [],
   "source": [
    "data_iter = mx.io.ImageRecordIter(path_imglist=os.path.join('dataset','train.lst'), path_imgrec=os.path.join('dataset','train.rec'), data_shape=(3,height,width),\n",
    "                                           shuffle=True, mean_r=123.68, mean_g=116.28, mean_b=103.53,\n",
    "                                           std_r=58.395, std_g=57.12, std_b=57.375,\n",
    "                                           batch_size=batch_size)\n",
    "\n",
    "data_iter_val = mx.io.ImageRecordIter(path_imglist=os.path.join('dataset','val.lst'), path_imgrec=os.path.join('dataset','val.rec'), data_shape=(3,height,width),\n",
    "                                           shuffle=True, mean_r=123.68, mean_g=116.28, mean_b=103.53,\n",
    "                                           std_r=58.395, std_g=57.12, std_b=57.375,\n",
    "                                           batch_size=batch_size)"
   ]
  },
  {
   "cell_type": "markdown",
   "metadata": {},
   "source": [
    "### training"
   ]
  },
  {
   "cell_type": "code",
   "execution_count": 5,
   "metadata": {},
   "outputs": [],
   "source": [
    "class autoencoder(g.nn.Block):\n",
    "    def __init__(self):\n",
    "        super(autoencoder, self).__init__()\n",
    "        with self.name_scope():       \n",
    "            self.encodercnn = g.nn.HybridSequential('encoder_cnn_')\n",
    "            with self.encodercnn.name_scope():\n",
    "                self.encodercnn.add(g.nn.Conv2D(64, 3, strides=1, padding=1, activation='relu'))\n",
    "                self.encodercnn.add(g.nn.MaxPool2D(pool_size=(2,2), strides=2))\n",
    "                self.encodercnn.add(g.nn.Conv2D(128, 3, strides=1, padding=1,activation='relu'))\n",
    "                self.encodercnn.add(g.nn.MaxPool2D(pool_size=(2,2), strides=2))\n",
    "                self.encodercnn.add(g.nn.Conv2D(256, 3, strides=1, padding=1,activation='relu'))\n",
    "                self.encodercnn.add(g.nn.Conv2D(256, 3, strides=1, padding=1,activation='relu'))\n",
    "                self.encodercnn.add(g.nn.MaxPool2D(pool_size=(2,1), strides=2))\n",
    "                self.encodercnn.add(g.nn.Conv2D(512, 3, strides=1, padding=1))\n",
    "                self.encodercnn.add(g.nn.BatchNorm(axis=1, center=True, scale=True))\n",
    "                self.encodercnn.add(g.nn.Activation(activation='relu'))\n",
    "                self.encodercnn.add(g.nn.Conv2D(512, 3, strides=1, padding=1))\n",
    "                self.encodercnn.add(g.nn.BatchNorm(axis=1, center=True, scale=True))\n",
    "                self.encodercnn.add(g.nn.Activation(activation='relu'))\n",
    "                self.encodercnn.add(g.nn.MaxPool2D(pool_size=(2,1), strides=2))\n",
    "                self.encodercnn.add(g.nn.Conv2D(512, 1, strides=1, padding=0,activation='relu'))\n",
    "            \n",
    "            self.encoderrnn = g.rnn.SequentialRNNCell('encoder_rnn_')\n",
    "            with self.encoderrnn.name_scope():\n",
    "                self.encoderrnn.add(g.rnn.LSTMCell(512))\n",
    "                self.encoderrnn.add(g.rnn.LSTMCell(512))\n",
    "            \n",
    "            self.intermediate_nn = g.nn.Dense(512)\n",
    "            #self.intermediate_nn1 = g.nn.Dense(512,activation='sigmoid')\n",
    "            #self.intermediate_nn2 = g.nn.Dense(256,activation='sigmoid')\n",
    "            #self.intermediate_nn3 = g.nn.Dense(512,activation='sigmoid')\n",
    "            \n",
    "            self.decoderrnn = g.rnn.SequentialRNNCell('decoder_rnn_')\n",
    "            with self.decoderrnn.name_scope():\n",
    "                self.decoderrnn.add(g.rnn.LSTMCell(512))\n",
    "                self.decoderrnn.add(g.rnn.LSTMCell(512))\n",
    "                \n",
    "            self.decodercnn = g.nn.HybridSequential('decoder_cnn_')\n",
    "            with self.decodercnn.name_scope():\n",
    "                self.decodercnn.add(g.nn.Conv2DTranspose(512, 1, strides=1, padding=0,activation='relu'))\n",
    "                # upsampling (1,7)\n",
    "                self.decodercnn.add(g.nn.Conv2DTranspose(512, 3, strides=1, padding=1, activation='relu'))\n",
    "                self.decodercnn.add(g.nn.Conv2DTranspose(512, 3, strides=1, padding=1, activation='relu'))\n",
    "                # upsampling (2,14)\n",
    "                self.decodercnn.add(g.nn.Conv2DTranspose(256, 3, strides=1, padding=1,activation='relu'))\n",
    "                self.decodercnn.add(g.nn.Conv2DTranspose(256, 3, strides=1, padding=1,activation='relu'))\n",
    "                # upsampling (4,28)\n",
    "                self.decodercnn.add(g.nn.Conv2DTranspose(128, 3, strides=1, padding=1,activation='relu'))\n",
    "                # upsampling (8,56)\n",
    "                self.decodercnn.add(g.nn.Conv2DTranspose(64, 3, strides=1, padding=1, activation='relu'))\n",
    "                # upsampling (16,112)\n",
    "                self.decodercnn.add(g.nn.Conv2DTranspose(3, 3, strides=1, padding=1, activation='tanh'))\n",
    "    def forward(self, x):\n",
    "        # encoder\n",
    "        x = self.encodercnn(x)\n",
    "        status = self.encoderrnn.begin_state(batch_size=batch_size,ctx=ctx)\n",
    "        for i in range(x.shape[3]):\n",
    "            cvector, status = self.encoderrnn(nd.flatten(x[:,:,:,i]), status)\n",
    "        cvector = self.intermediate_nn(cvector)\n",
    "        #cvector = self.intermediate_nn1(cvector)\n",
    "        #cvector = self.intermediate_nn2(cvector)\n",
    "        #cvector = self.intermediate_nn3(cvector)\n",
    "        # decoder\n",
    "        for i in range(x.shape[3]):\n",
    "            cvector, status = self.decoderrnn(cvector, status)\n",
    "            if i == 0:\n",
    "                outputs = mx.nd.expand_dims(cvector, axis=2)\n",
    "            else:\n",
    "                outputs = mx.nd.concat(outputs,mx.nd.expand_dims(cvector, axis=2),dim=2)\n",
    "        xs = mx.nd.Reshape(outputs,(x.shape[0],x.shape[1],1,x.shape[3]))\n",
    "        for i in range(len(self.decodercnn)):\n",
    "            xs = self.decodercnn[i](xs)\n",
    "            if (i == 0):\n",
    "                xs = mx.nd.contrib.BilinearResize2D(xs, height=2, width=2*7)\n",
    "            elif (i == 2):\n",
    "                xs = mx.nd.contrib.BilinearResize2D(xs, height=3, width=3*7)\n",
    "            elif (i == 4):\n",
    "                xs = mx.nd.contrib.BilinearResize2D(xs, height=6, width=6*7)\n",
    "            elif (i == 5):\n",
    "                xs = mx.nd.contrib.BilinearResize2D(xs, height=12, width=12*7)\n",
    "            elif (i == 6):\n",
    "                xs = mx.nd.contrib.BilinearResize2D(xs, height=24, width=24*7)\n",
    "        return xs*4"
   ]
  },
  {
   "cell_type": "markdown",
   "metadata": {},
   "source": [
    "### Initialization for Optimization & Training"
   ]
  },
  {
   "cell_type": "code",
   "execution_count": 6,
   "metadata": {},
   "outputs": [
    {
     "name": "stdout",
     "output_type": "stream",
     "text": [
      "(512L, 3L, 24L, 168L)\n"
     ]
    }
   ],
   "source": [
    "model = autoencoder()\n",
    "model.hybridize()\n",
    "model.collect_params().initialize(mx.init.Xavier(magnitude=2), ctx=ctx)\n",
    "for batch in data_iter:\n",
    "    batch\n",
    "    break\n",
    "print(model(batch.data[0].as_in_context(ctx)).shape)\n",
    "model.save_parameters('process/ae_*.params')"
   ]
  },
  {
   "cell_type": "code",
   "execution_count": 7,
   "metadata": {},
   "outputs": [],
   "source": [
    "criterion = g.loss.L2Loss()"
   ]
  },
  {
   "cell_type": "markdown",
   "metadata": {},
   "source": [
    "### Optimization & Training"
   ]
  },
  {
   "cell_type": "code",
   "execution_count": 8,
   "metadata": {},
   "outputs": [
    {
     "name": "stdout",
     "output_type": "stream",
     "text": [
      "### mean = 2 ### Optimizer: Adam ### Learning Rate: 0.010\n",
      "epoch:  0;\t train:3.760272e+00;2.455972e+00;val:4.066884e-01;2.429125e+00;\t Speed:465\n",
      "epoch:  1;\t train:3.789403e+00;2.466380e+00;val:3.863856e-01;2.429190e+00;\t Speed:477\n",
      "epoch:  2;\t train:3.787291e+00;2.465998e+00;val:4.090249e-01;2.429147e+00;\t Speed:477\n",
      "epoch:  3;\t train:3.789397e+00;2.466380e+00;val:3.863646e-01;2.429150e+00;\t Speed:477\n",
      "epoch:  4;\t train:3.789396e+00;2.466379e+00;val:4.067264e-01;2.429195e+00;\t Speed:477\n",
      "epoch:  5;\t train:3.787325e+00;2.466005e+00;val:3.885528e-01;2.429112e+00;\t Speed:477\n",
      "epoch:  6;\t train:3.789403e+00;2.466381e+00;val:4.066984e-01;2.429136e+00;\t Speed:477\n",
      "epoch:  7;\t train:3.789356e+00;2.466371e+00;val:3.863787e-01;2.429179e+00;\t Speed:478\n",
      "epoch:  8;\t train:3.787332e+00;2.466006e+00;val:4.090579e-01;2.429209e+00;\t Speed:478\n",
      "epoch:  9;\t train:3.789424e+00;2.466386e+00;val:3.863636e-01;2.429145e+00;\t Speed:478\n",
      "epoch: 10;\t train:3.789370e+00;2.466373e+00;val:4.066684e-01;2.429094e+00;\t Speed:478\n",
      "epoch: 11;\t train:3.787325e+00;2.466005e+00;val:3.886347e-01;2.429257e+00;\t Speed:478\n",
      "epoch: 12;\t train:3.789385e+00;2.466377e+00;val:4.066823e-01;2.429113e+00;\t Speed:478\n",
      "epoch: 13;\t train:3.787324e+00;2.466004e+00;val:3.885779e-01;2.429165e+00;\t Speed:478\n",
      "epoch: 14;\t train:3.789398e+00;2.466380e+00;val:4.067294e-01;2.429207e+00;\t Speed:478\n",
      "epoch: 15;\t train:3.789418e+00;2.466385e+00;val:3.863802e-01;2.429173e+00;\t Speed:478\n",
      "epoch: 16;\t train:3.787295e+00;2.465998e+00;val:4.089877e-01;2.429080e+00;\t Speed:478\n",
      "epoch: 17;\t train:3.789398e+00;2.466380e+00;val:3.863940e-01;2.429210e+00;\t Speed:478\n",
      "epoch: 18;\t train:3.789390e+00;2.466378e+00;val:4.067216e-01;2.429185e+00;\t Speed:478\n",
      "epoch: 19;\t train:3.766606e+00;2.457483e+00;val:3.885799e-01;2.429170e+00;\t Speed:478\n",
      "epoch: 20;\t train:3.789364e+00;2.466373e+00;val:4.066336e-01;2.429017e+00;\t Speed:477\n",
      "epoch: 21;\t train:3.789398e+00;2.466379e+00;val:3.864737e-01;2.429359e+00;\t Speed:478\n",
      "epoch: 22;\t train:3.787352e+00;2.466011e+00;val:4.090140e-01;2.429131e+00;\t Speed:478\n",
      "epoch: 23;\t train:3.789446e+00;2.466389e+00;val:3.863208e-01;2.429062e+00;\t Speed:478\n",
      "epoch: 24;\t train:3.787275e+00;2.465995e+00;val:4.090011e-01;2.429096e+00;\t Speed:478\n",
      "epoch: 25;\t train:3.789375e+00;2.466375e+00;val:3.864281e-01;2.429282e+00;\t Speed:478\n",
      "epoch: 26;\t train:3.789468e+00;2.466394e+00;val:4.066534e-01;2.429060e+00;\t Speed:478\n",
      "epoch: 27;\t train:3.787288e+00;2.465998e+00;val:3.886473e-01;2.429290e+00;\t Speed:478\n",
      "epoch: 28;\t train:3.789351e+00;2.466370e+00;val:4.067347e-01;2.429205e+00;\t Speed:478\n",
      "epoch: 29;\t train:3.789404e+00;2.466381e+00;val:3.863193e-01;2.429057e+00;\t Speed:478\n",
      "epoch: 30;\t train:3.787342e+00;2.466008e+00;val:4.089923e-01;2.429098e+00;\t Speed:478\n",
      "epoch: 31;\t train:3.789404e+00;2.466381e+00;val:3.864038e-01;2.429229e+00;\t Speed:478\n",
      "epoch: 32;\t train:3.789419e+00;2.466384e+00;val:4.067297e-01;2.429204e+00;\t Speed:478\n",
      "epoch: 33;\t train:3.787306e+00;2.466001e+00;val:3.885338e-01;2.429067e+00;\t Speed:478\n",
      "epoch: 34;\t train:3.789364e+00;2.466373e+00;val:4.067741e-01;2.429290e+00;\t Speed:478\n",
      "epoch: 35;\t train:3.787324e+00;2.466004e+00;val:3.885032e-01;2.429007e+00;\t Speed:478\n",
      "epoch: 36;\t train:3.789411e+00;2.466383e+00;val:4.067158e-01;2.429180e+00;\t Speed:478\n",
      "epoch: 37;\t train:3.789414e+00;2.466383e+00;val:3.864190e-01;2.429245e+00;\t Speed:478\n",
      "epoch: 38;\t train:3.787289e+00;2.465998e+00;val:4.090315e-01;2.429170e+00;\t Speed:478\n",
      "epoch: 39;\t train:3.789426e+00;2.466385e+00;val:3.863449e-01;2.429103e+00;\t Speed:478\n",
      "epoch: 40;\t train:3.789378e+00;2.466375e+00;val:4.067626e-01;2.429252e+00;\t Speed:478\n",
      "epoch: 41;\t train:3.787309e+00;2.466002e+00;val:3.885296e-01;2.429070e+00;\t Speed:478\n",
      "epoch: 42;\t train:3.789384e+00;2.466376e+00;val:3.863745e-01;2.429171e+00;\t Speed:478\n",
      "epoch: 43;\t train:3.789436e+00;2.466388e+00;val:4.067049e-01;2.429163e+00;\t Speed:478\n",
      "epoch: 44;\t train:3.787318e+00;2.466004e+00;val:3.885800e-01;2.429156e+00;\t Speed:478\n",
      "epoch: 45;\t train:3.789343e+00;2.466368e+00;val:4.067340e-01;2.429207e+00;\t Speed:478\n",
      "epoch: 46;\t train:3.787341e+00;2.466008e+00;val:3.885485e-01;2.429104e+00;\t Speed:478\n",
      "epoch: 47;\t train:3.789390e+00;2.466378e+00;val:4.067431e-01;2.429230e+00;\t Speed:478\n",
      "epoch: 48;\t train:3.789404e+00;2.466380e+00;val:3.863374e-01;2.429094e+00;\t Speed:478\n",
      "epoch: 49;\t train:3.787314e+00;2.466003e+00;val:4.090115e-01;2.429121e+00;\t Speed:477\n"
     ]
    }
   ],
   "source": [
    "sd = 0.75\n",
    "mean = 2\n",
    "import scipy.stats\n",
    "train_metric = mx.metric.MAE()\n",
    "val_metric = mx.metric.MAE()\n",
    "#for mean in range(0,5):\n",
    "#for opt in sorted({'Adam','RMSProp','SGD'}):\n",
    "for opt in sorted({'Adam'}):\n",
    "#    for lr in sorted({0.1,0.01,0.001},reverse=True):\n",
    "    for lr in sorted({0.01},reverse=True):\n",
    "        epoch = 0\n",
    "        epochs = 50\n",
    "        model.load_parameters('process/ae_*.params')\n",
    "        optimizer = g.Trainer(model.collect_params(), opt, {'learning_rate': lr, 'wd': 1e-5})\n",
    "        print('### mean = %d ### Optimizer: %s ### Learning Rate: %.3f' % (mean,opt,lr))\n",
    "        val_val_check = np.inf\n",
    "        while epoch < epochs:\n",
    "        #for epoch in range(start_epoch, epochs):\n",
    "            # train\n",
    "            train_loss = 0\n",
    "            train_metric.reset()\n",
    "            data_iter.reset()\n",
    "            tic = time.time()\n",
    "            counter = 0\n",
    "            for batch in data_iter:\n",
    "                with ag.record():\n",
    "                    x = batch.data[0].as_in_context(ctx)\n",
    "                    y = model(x)\n",
    "                    #alpha = mx.nd.array(1-abs(1-(2*(1-scipy.stats.norm(mean*0.5, sd).cdf(batch.label[0].asnumpy())))),ctx=ctx)\n",
    "                    #alpha = mx.nd.array(1*(batch.label[0].asnumpy() == 2),ctx=ctx)\n",
    "                    alpha = 1\n",
    "                    loss = alpha*criterion(x,y)\n",
    "                    loss.backward()\n",
    "                    train_loss += mx.nd.sum(loss).asscalar()\n",
    "                optimizer.step(batch_size, ignore_stale_grad=True)\n",
    "                train_metric.update(x, y)\n",
    "                counter += 1\n",
    "            toc = time.time()\n",
    "            name_train, val_train = train_metric.get()\n",
    "            # validation\n",
    "            val_loss = 0\n",
    "            val_metric.reset()\n",
    "            data_iter_val.reset()\n",
    "            for batch in data_iter_val:\n",
    "                x = batch.data[0].as_in_context(ctx)\n",
    "                y = model(x)\n",
    "                loss = criterion(x,y)\n",
    "                val_loss += mx.nd.sum(loss).asscalar()\n",
    "                val_metric.update(x, y)\n",
    "            name_val, val_val = val_metric.get()\n",
    "            print('epoch:%3d;\\t train:%.6e;%.6e;val:%.6e;%.6e;\\t Speed:%d'\n",
    "                  %(epoch, train_loss/(counter*batch_size), val_train, val_loss/(counter*batch_size), val_val, (counter*batch_size)/(toc-tic)))\n",
    "            if val_val < val_val_check:\n",
    "                model.save_parameters('process/ae_*.params')\n",
    "                val_val_check = val_val\n",
    "            epoch = epoch + 1"
   ]
  },
  {
   "cell_type": "markdown",
   "metadata": {},
   "source": [
    "### Visualization"
   ]
  },
  {
   "cell_type": "code",
   "execution_count": 9,
   "metadata": {},
   "outputs": [
    {
     "data": {
      "image/png": "[encoded data removed]",
      "text/plain": [
       "<Figure size 600x400 with 1 Axes>"
      ]
     },
     "metadata": {},
     "output_type": "display_data"
    },
    {
     "data": {
      "image/png": "[encoded data removed]",
      "text/plain": [
       "<Figure size 600x400 with 1 Axes>"
      ]
     },
     "metadata": {},
     "output_type": "display_data"
    }
   ],
   "source": [
    "from random import randint\n",
    "whichIm = randint(0,200)\n",
    "for batch in data_iter_val:\n",
    "    x = batch.data[0].as_in_context(ctx)\n",
    "    y = model(x)\n",
    "    break\n",
    "val_image = y[whichIm,:,:,:].as_in_context(mx.cpu())\n",
    "val_image = val_image.transpose((1, 2, 0)) * nd.array((0.229, 0.224, 0.225)) + nd.array((0.485, 0.456, 0.406))\n",
    "val_image = (val_image * 255).clip(0, 255)\n",
    "val_image = val_image.asnumpy()\n",
    "val_image = val_image.astype(np.uint8)\n",
    "plt.rcParams[\"figure.dpi\"] = 100\n",
    "plt.imshow(val_image)\n",
    "plt.savefig('val.png')\n",
    "plt.show()\n",
    "org = x[whichIm,:,:,:].as_in_context(mx.cpu())\n",
    "org = org.transpose((1, 2, 0)) * nd.array((0.229, 0.224, 0.225)) + nd.array((0.485, 0.456, 0.406))\n",
    "org = (org * 255).clip(0, 255)\n",
    "org = org.asnumpy()\n",
    "org = org.astype(np.uint8)\n",
    "plt.imshow(org)\n",
    "plt.savefig('org.png')\n",
    "plt.show()"
   ]
  },
  {
   "cell_type": "code",
   "execution_count": 10,
   "metadata": {},
   "outputs": [],
   "source": [
    "from random import randint\n",
    "whichIm = randint(0,200)\n",
    "for batch in data_iter_val:\n",
    "    x = batch.data[0].as_in_context(ctx)\n",
    "    y = model(x)"
   ]
  },
  {
   "cell_type": "code",
   "execution_count": null,
   "metadata": {},
   "outputs": [],
   "source": []
  }
 ],
 "metadata": {
  "kernelspec": {
   "display_name": "Python 2",
   "language": "python",
   "name": "python2"
  },
  "language_info": {
   "codemirror_mode": {
    "name": "ipython",
    "version": 2
   },
   "file_extension": ".py",
   "mimetype": "text/x-python",
   "name": "python",
   "nbconvert_exporter": "python",
   "pygments_lexer": "ipython2",
   "version": "2.7.15rc1"
  }
 },
 "nbformat": 4,
 "nbformat_minor": 2
}
