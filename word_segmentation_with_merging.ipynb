{
 "cells": [
  {
   "cell_type": "code",
   "execution_count": 1,
   "metadata": {},
   "outputs": [],
   "source": [
    "import glob\n",
    "import os\n",
    "import cv2\n",
    "import numpy as np\n",
    "import shutil\n",
    "from matplotlib import pyplot as plt\n",
    "from skimage.filters import threshold_otsu\n",
    "from sklearn.cluster import MeanShift\n",
    "try:\n",
    "    import xml.etree.cElementTree as ET\n",
    "except ImportError:\n",
    "    import xml.etree.ElementTree as ET\n",
    "import matplotlib.patches as patches"
   ]
  },
  {
   "cell_type": "code",
   "execution_count": 3,
   "metadata": {},
   "outputs": [],
   "source": [
    "def bb_intersection_over_union(boxA, xBmin, yBmin, xBmax, yBmax):\n",
    "    # determine the (x, y)-coordinates of the intersection rectangle\n",
    "    xA = np.maximum(boxA[0], xBmin)\n",
    "    yA = np.maximum(boxA[1], yBmin)\n",
    "    xB = np.minimum(boxA[2], xBmax)\n",
    "    yB = np.minimum(boxA[3], yBmax)\n",
    " \n",
    "    # compute the area of intersection rectangle\n",
    "    interArea = np.maximum(0, xB - xA + 1) * np.maximum(0, yB - yA + 1)\n",
    " \n",
    "    # compute the area of both the prediction and ground-truth\n",
    "    # rectangles\n",
    "    boxAArea = (boxA[2] - boxA[0] + 1) * (boxA[3] - boxA[1] + 1)\n",
    "    boxBArea = (xBmax - xBmin + 1) * (yBmax - yBmin + 1)\n",
    " \n",
    "    # compute the intersection over union by taking the intersection\n",
    "    # area and dividing it by the sum of prediction + ground-truth\n",
    "    # areas - the interesection area\n",
    "    iou = np.divide(interArea, (boxBArea + boxAArea - interArea).astype(np.float))\n",
    "\n",
    "    # return the intersection over union value\n",
    "    return iou"
   ]
  },
  {
   "cell_type": "code",
   "execution_count": 4,
   "metadata": {},
   "outputs": [],
   "source": [
    "def merge_bb(boxes):\n",
    "    pick = [0, 0, 0, 0]\n",
    "    boxes = boxes.astype(\"float\")\n",
    "    # convert (w,h) to (x2,y2)\n",
    "    boxes[:,2] = boxes[:,0] + boxes[:,2]\n",
    "    boxes[:,3] = boxes[:,1] + boxes[:,3]\n",
    "    counter = 0\n",
    "    while counter < len(boxes):\n",
    "        iou = bb_intersection_over_union(boxes[counter,:],boxes[:,0],boxes[:,1],boxes[:,2],boxes[:,3])\n",
    "        if len(boxes[(iou>0),:]) > 1:\n",
    "            merging = boxes[(iou>0),:]\n",
    "            xmin = min(merging[:,0])\n",
    "            ymin = min(merging[:,1])\n",
    "            xmax = max(merging[:,2])\n",
    "            ymax = max(merging[:,3])\n",
    "            pick = np.vstack([pick, [xmin,ymin,xmax,ymax]])\n",
    "        else:\n",
    "            merging = boxes[(iou>0),:]\n",
    "            pick = np.vstack([pick, merging])            \n",
    "        counter = counter + 1\n",
    "    pick[:,2] = pick[:,2] - pick[:,0]\n",
    "    pick[:,3] = pick[:,3] - pick[:,1]\n",
    "    return pick[1:,:]"
   ]
  },
  {
   "cell_type": "markdown",
   "metadata": {},
   "source": [
    "### Loop"
   ]
  },
  {
   "cell_type": "code",
   "execution_count": 5,
   "metadata": {},
   "outputs": [
    {
     "name": "stdout",
     "output_type": "stream",
     "text": [
      "/home/mcyavuz/Documents/wordcropping/clusters_training/NFS_d___01494_00002/\n"
     ]
    }
   ],
   "source": [
    "for foldername in glob.glob(\"clusters_training/*\"):\n",
    "    try:\n",
    "        shutil.rmtree(foldername+\"/\"+\"crops_2\")\n",
    "    except:\n",
    "        pass\n",
    "    print(foldername)\n",
    "    os.makedirs(foldername+\"/\"+\"crops_2\")\n",
    "    for filename in glob.glob(foldername+\"/*.jpg\"):\n",
    "        fn = filename.split('/')\n",
    "        fn = fn[-1:][0][:-4]\n",
    "        img_to_mser = cv2.imread(filename,0)\n",
    "        img_to_crop = cv2.imread(filename)\n",
    "        mser = cv2.MSER_create(_min_area=10)\n",
    "        coordinates, bboxes = mser.detectRegions(img_to_mser)\n",
    "        area = (abs((bboxes[:,0] - bboxes[:,2])*(bboxes[:,1] - bboxes[:,3])).astype(float))/(img_to_crop.shape[0]*img_to_crop.shape[1])\n",
    "        # remove outliers\n",
    "        mean = np.mean(bboxes[:,3],axis=0)\n",
    "        sd = np.std(bboxes[:,3],axis=0)\n",
    "        bboxes = bboxes[(bboxes[:,3] < mean + 2*sd) & (bboxes[:,3] < np.percentile(bboxes[:,3], 75)), :]\n",
    "        # when the bounding box is small add width onto.\n",
    "        bias = 6\n",
    "        wlen = 6\n",
    "        bboxes[bboxes[:,2] < wlen,0] = bboxes[bboxes[:,2] < wlen,0] - bias/2\n",
    "        bboxes[bboxes[:,2] < wlen,2] = bboxes[bboxes[:,2] < wlen,2] + bias\n",
    "        bboxes = merge_bb(bboxes)\n",
    "        #fig,ax = plt.subplots(1)\n",
    "        #ax.imshow(img_to_crop)\n",
    "        j = 0\n",
    "        for bbox in np.unique(bboxes,axis=0):\n",
    "            x, y, w, h = bbox.astype(int)\n",
    "            w = w\n",
    "            h = h\n",
    "            x = x\n",
    "            y = y\n",
    "            wcrop = img_to_crop[y:y+h,x:x+w]\n",
    "            cv2.imwrite(foldername+\"/\"+\"crops_2/\"+fn+\"_\"+str(j).zfill(3)+\".jpg\",wcrop)\n",
    "            j = j + 1\n",
    "            #rect = patches.Rectangle((x,y),w,h,linewidth=1,edgecolor='r',facecolor='none')\n",
    "            # Add the patch to the Axes\n",
    "            #ax.add_patch(rect)\n",
    "        #plt.show()"
   ]
  },
  {
   "cell_type": "code",
   "execution_count": null,
   "metadata": {},
   "outputs": [],
   "source": []
  }
 ],
 "metadata": {
  "kernelspec": {
   "display_name": "Python 2",
   "language": "python",
   "name": "python2"
  },
  "language_info": {
   "codemirror_mode": {
    "name": "ipython",
    "version": 2
   },
   "file_extension": ".py",
   "mimetype": "text/x-python",
   "name": "python",
   "nbconvert_exporter": "python",
   "pygments_lexer": "ipython2",
   "version": "2.7.14+"
  }
 },
 "nbformat": 4,
 "nbformat_minor": 2
}
